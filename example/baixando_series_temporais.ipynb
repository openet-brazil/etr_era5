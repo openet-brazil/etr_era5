{
 "cells": [
  {
   "cell_type": "markdown",
   "metadata": {},
   "source": [
    "#### Tutorial para realizar o download da série temporal de Evapotranspiração de referência"
   ]
  },
  {
   "cell_type": "code",
   "execution_count": 1,
   "metadata": {},
   "outputs": [],
   "source": [
    "import pandas as pd\n",
    "import ee\n",
    "\n",
    "import ee"
   ]
  },
  {
   "cell_type": "code",
   "execution_count": 6,
   "metadata": {},
   "outputs": [],
   "source": [
    "ee.Initialize(project='et-brasil')\n",
    "\n",
    "import sys\n",
    "\n",
    "sys.path.append(r'C:\\\\Users\\\\hge2022\\\\OneDrive\\\\doutorado\\\\reunioes_ted\\\\relatorio1\\\\models\\\\etr_era5')"
   ]
  },
  {
   "cell_type": "code",
   "execution_count": 9,
   "metadata": {},
   "outputs": [],
   "source": [
    "from etr_era5 import etr"
   ]
  },
  {
   "cell_type": "code",
   "execution_count": 10,
   "metadata": {},
   "outputs": [],
   "source": [
    "# Data inicial\n",
    "start_date = '2019-01-01'\n",
    "\n",
    "# Data final\n",
    "end_date = '2020-01-01'\n",
    "\n",
    "# Dados diários meteorológicos\n",
    "meteo_daily = 'ECMWF/ERA5_LAND/DAILY_AGGR'\n",
    "\n",
    "# Dados horários meteorológicos\n",
    "meteo_hourly = 'ECMWF/ERA5_LAND/HOURLY'\n",
    "\n",
    "# Criando uma lista de data\n",
    "n_dif = ee.Date(end_date).difference(ee.Date(start_date),'day').round()\n",
    "dates = ee.List.sequence(0,n_dif,1)\n",
    "def make_datelist(n): return ee.Date(start_date).advance(n,'day')\n",
    "\n",
    "# Lista de datas\n",
    "dates = dates.map(make_datelist)\n",
    "\n",
    "# Criando uma lista de etr\n",
    "\n",
    "def get_etr(date):\n",
    "\n",
    "    # Obtendo dados meteorologicos\n",
    "    tmin, tmax, tair_c, wind_med, rh, rso_inst, swdown24h =etr.meteo_era5land(date, meteo_hourly, meteo_daily)\n",
    "\n",
    "    # Obtendo Rn diário\n"
   ]
  },
  {
   "cell_type": "code",
   "execution_count": null,
   "metadata": {},
   "outputs": [],
   "source": []
  }
 ],
 "metadata": {
  "kernelspec": {
   "display_name": "base",
   "language": "python",
   "name": "python3"
  },
  "language_info": {
   "codemirror_mode": {
    "name": "ipython",
    "version": 3
   },
   "file_extension": ".py",
   "mimetype": "text/x-python",
   "name": "python",
   "nbconvert_exporter": "python",
   "pygments_lexer": "ipython3",
   "version": "3.9.12"
  }
 },
 "nbformat": 4,
 "nbformat_minor": 2
}
